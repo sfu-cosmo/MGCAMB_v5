{
 "cells": [
  {
   "cell_type": "markdown",
   "metadata": {},
   "source": [
    "# MG-Copter - demo notebook for RSD multipoles \n",
    "\n",
    "For the following example you need the Python wrapper for CAMB installed. The easiest way to do this is to use the `conda` package:\n",
    "\n",
    "`conda install camb -c conda-forge`"
   ]
  },
  {
   "cell_type": "code",
   "execution_count": 1,
   "metadata": {},
   "outputs": [],
   "source": [
    "import numpy as np\n",
    "import camb\n",
    "\n",
    "%matplotlib inline\n",
    "import matplotlib.pyplot as plt\n",
    "\n",
    "import pyreact\n",
    "\n",
    "# import the builtin time module\n",
    "import time"
   ]
  },
  {
   "cell_type": "markdown",
   "metadata": {},
   "source": [
    "Set the cosmology and let CAMB compute the linear power spectrum."
   ]
  },
  {
   "cell_type": "code",
   "execution_count": 2,
   "metadata": {},
   "outputs": [],
   "source": [
    "# Set base cosmo parameters \n",
    "Omega_b = 0.046\n",
    "Omega_c = 0.281-Omega_b\n",
    "h = 0.697\n",
    "n_s = 0.971\n",
    "A_s = 2.31285e-9\n",
    "m_nu = 0.0\n",
    "w0 = -1.0\n",
    "w_a = 0.0\n",
    "\n",
    "\n",
    "# Model selection and parameter (gr,f(r),dgp,quintessence or cpl)\n",
    "mymodel = \"f(R)\"\n",
    "extrapars = np.zeros(20)\n",
    "extrapars[0] = 1e-5\n"
   ]
  },
  {
   "cell_type": "markdown",
   "metadata": {},
   "source": [
    "## Run camb to get the linear spectrum "
   ]
  },
  {
   "cell_type": "code",
   "execution_count": 3,
   "metadata": {},
   "outputs": [
    {
     "name": "stdout",
     "output_type": "stream",
     "text": [
      "0.8448071967423182\n"
     ]
    }
   ],
   "source": [
    "p = camb.CAMBparams(WantTransfer=True, \n",
    "                    Want_CMB=False, Want_CMB_lensing=False, DoLensing=False, \n",
    "                    NonLinear=\"NonLinear_none\",\n",
    "                    WantTensors=False, WantVectors=False, WantCls=False, WantDerivedParameters=False,\n",
    "                    want_zdrag=False, want_zstar=False, DarkEnergyModel=\"fluid\")\n",
    "    \n",
    "p.set_cosmology(H0=h*100, ombh2=Omega_b*h**2, omch2=Omega_c*h**2, omk=0, mnu=m_nu)\n",
    "p.set_initial_power(camb.initialpower.InitialPowerLaw(As=A_s, ns=n_s))\n",
    "p.set_dark_energy(w=w0,wa=w_a)\n",
    "\n",
    "p.set_matter_power(redshifts=np.linspace(0.0, 1.0, 2, endpoint=True)[::-1],\n",
    "                   kmax=50.0, nonlinear=False)\n",
    "\n",
    "r = camb.get_results(p)\n",
    "sigma_8 = r.get_sigma8()[-1]\n",
    "k_lin, z_lin, pofk_lin_camb = r.get_matter_power_spectrum(minkh=1e-4, maxkh=50.0, npoints=128)\n",
    "\n",
    "Omega_m = p.omegam\n",
    "print(sigma_8)"
   ]
  },
  {
   "cell_type": "markdown",
   "metadata": {},
   "source": [
    "## Now run MG-Copter to get the multipoles and the modified gravity growth "
   ]
  },
  {
   "cell_type": "code",
   "execution_count": 4,
   "metadata": {},
   "outputs": [
    {
     "name": "stdout",
     "output_type": "stream",
     "text": [
      "\n",
      "209.41569304466248\n"
     ]
    }
   ],
   "source": [
    "react = pyreact.ReACT()\n",
    "\n",
    "# target redshift \n",
    "z_react =  0.5 \n",
    "\n",
    "# Set rsd parameters \n",
    "# 0 = kaiser # 1 = TNS with q-bias  # 2 = TNS with eulerian bias # 3 = 1-loop SPT \n",
    "rsd_model = 1 \n",
    "\n",
    "# how many multipoles to calculate? \n",
    "whichmulti = 3\n",
    "\n",
    "# RSD parameters\n",
    "rsdpars = np.zeros(1)\n",
    "# 0 = sigma_v of TNS model \n",
    "# for rsd_model = 3 the linear velocity dispersion is calculated internally and rsdpars is ignored. \n",
    "rsdpars[0] = 3.0 \n",
    "\n",
    "# bias parameters \n",
    "# 0 = linear bias \n",
    "# 1+ : higher order bias (see reactions/src/SPT.cpp PRSD_mg function)\n",
    "biaspars = np.zeros(4)\n",
    "biaspars[0] = 1.0\n",
    "biaspars[1] = 0.0\n",
    "biaspars[2] = 0.0\n",
    "\n",
    "# Set output array \n",
    "kmin = 1e-2\n",
    "kmax = 0.3\n",
    "kloop = 60\n",
    "kout = np.logspace(np.log10(kmin), np.log10(kmax), num=kloop)\n",
    "\n",
    "# error parameters \n",
    "# 0 = 1-loop integral absolute accuracy \n",
    "# 1 = evolution equation starting step \n",
    "# 2,3 = evolution equation absolute and relative errors\n",
    "errpars = np.zeros(4)\n",
    "errpars[0] = 1e-3\n",
    "errpars[1] = 1e-4\n",
    "errpars[2] = 1e-3\n",
    "errpars[3] = 1e-2\n",
    "\n",
    "\n",
    "# Grab Currrent Time Before Running the Code\n",
    "start = time.time()\n",
    "\n",
    "p0,p2,p4,growth_factor, growth_rate = react.compute_multipoles(\n",
    "                                h, n_s, Omega_m, Omega_b, sigma_8, z_react, k_lin, pofk_lin_camb[0],\n",
    "                                kout,\n",
    "                                mymodel, rsd_model, whichmulti, \n",
    "                                extrapars, rsdpars, biaspars, errpars,\n",
    "                                is_transfer=False,\n",
    "                                verbose=True)  \n",
    "\n",
    "# Grab Currrent Time After Running the Code\n",
    "end = time.time()\n",
    "\n",
    "#Subtract Start Time from The End Time\n",
    "total_time = end - start\n",
    "print(\"\\n\"+ str(total_time))"
   ]
  },
  {
   "cell_type": "code",
   "execution_count": 6,
   "metadata": {},
   "outputs": [
    {
     "data": {
      "text/plain": [
       "(0.01, 0.3)"
      ]
     },
     "execution_count": 6,
     "metadata": {},
     "output_type": "execute_result"
    },
    {
     "data": {
      "image/png": "[encoded data removed]",
      "text/plain": [
       "<Figure size 432x288 with 1 Axes>"
      ]
     },
     "metadata": {
      "needs_background": "light"
     },
     "output_type": "display_data"
    }
   ],
   "source": [
    "import pylab as pl\n",
    "\n",
    "pl.title(\"TNS Multipoles at z=0.5 in f(R) gravity with $\\sigma_v = 3 [Mpc/h]^3$\")\n",
    "pl.plot(kout, kout**(3/2)*p0 , label=\"P0\")\n",
    "pl.plot(kout, kout**(3/2)*p2, label = \"P2\")\n",
    "pl.plot(kout, kout**(3/2)*p4, label = \"P4\")\n",
    "\n",
    "pl.legend(loc='best')\n",
    "pl.xlim(0.01,0.3)"
   ]
  },
  {
   "cell_type": "code",
   "execution_count": null,
   "metadata": {},
   "outputs": [],
   "source": []
  }
 ],
 "metadata": {
  "kernelspec": {
   "display_name": "Python 3",
   "language": "python",
   "name": "python3"
  },
  "language_info": {
   "codemirror_mode": {
    "name": "ipython",
    "version": 3
   },
   "file_extension": ".py",
   "mimetype": "text/x-python",
   "name": "python",
   "nbconvert_exporter": "python",
   "pygments_lexer": "ipython3",
   "version": "3.7.7"
  }
 },
 "nbformat": 4,
 "nbformat_minor": 2
}
